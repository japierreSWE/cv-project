{
 "metadata": {
  "language_info": {
   "codemirror_mode": {
    "name": "ipython",
    "version": 3
   },
   "file_extension": ".py",
   "mimetype": "text/x-python",
   "name": "python",
   "nbconvert_exporter": "python",
   "pygments_lexer": "ipython3",
   "version": "3.7.3-final"
  },
  "orig_nbformat": 2,
  "kernelspec": {
   "name": "python3",
   "display_name": "Python 3.7.3 64-bit",
   "metadata": {
    "interpreter": {
     "hash": "31f2aee4e71d21fbe5cf8b01ff0e069b9275f58929596ceb00d14d90e3e16cd6"
    }
   }
  }
 },
 "nbformat": 4,
 "nbformat_minor": 2,
 "cells": [
  {
   "cell_type": "code",
   "execution_count": 350,
   "metadata": {},
   "outputs": [],
   "source": [
    "#Using the Histogram to perform Classification"
   ]
  },
  {
   "cell_type": "code",
   "execution_count": 351,
   "metadata": {},
   "outputs": [],
   "source": [
    "import cv2 as cv\n",
    "import os\n",
    "import pandas as pd\n",
    "import numpy as np\n",
    "import json\n",
    "import pickle\n",
    "import time"
   ]
  },
  {
   "cell_type": "code",
   "execution_count": 352,
   "metadata": {},
   "outputs": [],
   "source": [
    "from sklearn.svm import SVC\n",
    "from sklearn.preprocessing import StandardScaler, MinMaxScaler\n",
    "from sklearn.model_selection import train_test_split\n",
    "from sklearn.metrics import accuracy_score, confusion_matrix, f1_score, precision_score, recall_score, auc, roc_auc_score\n",
    "from sklearn.utils import shuffle\n"
   ]
  },
  {
   "cell_type": "code",
   "execution_count": 353,
   "metadata": {},
   "outputs": [],
   "source": [
    "car_df = pd.read_csv(\"Car_Hist_MinMax_Max1500_v4.csv\", sep = ',', index_col = False)\n",
    "noise_df = pd.read_csv(\"Noise_Hist_MinMax_Max1500_v4.csv\", sep = ',', index_col = False)"
   ]
  },
  {
   "cell_type": "code",
   "execution_count": 355,
   "metadata": {},
   "outputs": [],
   "source": [
    "#add labels\n",
    "car_df['y'] = 1\n",
    "noise_df['y'] = 0"
   ]
  },
  {
   "cell_type": "code",
   "execution_count": 356,
   "metadata": {},
   "outputs": [
    {
     "output_type": "execute_result",
     "data": {
      "text/plain": [
       "          0         1         2         3    4         5         6         7  \\\n",
       "0  0.000000  0.000000  0.046512  0.000000  0.0  0.000000  0.015385  0.000000   \n",
       "1  0.000000  0.000000  0.116279  0.016949  0.0  0.041667  0.000000  0.000000   \n",
       "2  0.000000  0.047619  0.000000  0.000000  0.0  0.166667  0.000000  0.000000   \n",
       "3  0.016667  0.000000  0.023256  0.016949  0.0  0.041667  0.000000  0.022727   \n",
       "4  0.000000  0.047619  0.023256  0.016949  0.0  0.000000  0.000000  0.022727   \n",
       "\n",
       "         8         9  ...    1491  1492  1493     1494      1495      1496  \\\n",
       "0  0.00000  0.000000  ...  0.1875   0.0   0.0  0.02381  0.010870  0.000000   \n",
       "1  0.02439  0.044444  ...  0.0000   0.0   0.0  0.02381  0.000000  0.027778   \n",
       "2  0.00000  0.022222  ...  0.1250   0.0   0.0  0.02381  0.000000  0.000000   \n",
       "3  0.00000  0.000000  ...  0.0000   0.0   0.0  0.00000  0.000000  0.000000   \n",
       "4  0.00000  0.000000  ...  0.0625   0.0   0.0  0.02381  0.032609  0.000000   \n",
       "\n",
       "       1497    1498  1499  y  \n",
       "0  0.000000  0.0000   0.0  1  \n",
       "1  0.000000  0.0625   0.0  1  \n",
       "2  0.000000  0.0000   0.0  1  \n",
       "3  0.019048  0.0000   0.0  1  \n",
       "4  0.019048  0.0000   0.0  1  \n",
       "\n",
       "[5 rows x 1501 columns]"
      ],
      "text/html": "<div>\n<style scoped>\n    .dataframe tbody tr th:only-of-type {\n        vertical-align: middle;\n    }\n\n    .dataframe tbody tr th {\n        vertical-align: top;\n    }\n\n    .dataframe thead th {\n        text-align: right;\n    }\n</style>\n<table border=\"1\" class=\"dataframe\">\n  <thead>\n    <tr style=\"text-align: right;\">\n      <th></th>\n      <th>0</th>\n      <th>1</th>\n      <th>2</th>\n      <th>3</th>\n      <th>4</th>\n      <th>5</th>\n      <th>6</th>\n      <th>7</th>\n      <th>8</th>\n      <th>9</th>\n      <th>...</th>\n      <th>1491</th>\n      <th>1492</th>\n      <th>1493</th>\n      <th>1494</th>\n      <th>1495</th>\n      <th>1496</th>\n      <th>1497</th>\n      <th>1498</th>\n      <th>1499</th>\n      <th>y</th>\n    </tr>\n  </thead>\n  <tbody>\n    <tr>\n      <th>0</th>\n      <td>0.000000</td>\n      <td>0.000000</td>\n      <td>0.046512</td>\n      <td>0.000000</td>\n      <td>0.0</td>\n      <td>0.000000</td>\n      <td>0.015385</td>\n      <td>0.000000</td>\n      <td>0.00000</td>\n      <td>0.000000</td>\n      <td>...</td>\n      <td>0.1875</td>\n      <td>0.0</td>\n      <td>0.0</td>\n      <td>0.02381</td>\n      <td>0.010870</td>\n      <td>0.000000</td>\n      <td>0.000000</td>\n      <td>0.0000</td>\n      <td>0.0</td>\n      <td>1</td>\n    </tr>\n    <tr>\n      <th>1</th>\n      <td>0.000000</td>\n      <td>0.000000</td>\n      <td>0.116279</td>\n      <td>0.016949</td>\n      <td>0.0</td>\n      <td>0.041667</td>\n      <td>0.000000</td>\n      <td>0.000000</td>\n      <td>0.02439</td>\n      <td>0.044444</td>\n      <td>...</td>\n      <td>0.0000</td>\n      <td>0.0</td>\n      <td>0.0</td>\n      <td>0.02381</td>\n      <td>0.000000</td>\n      <td>0.027778</td>\n      <td>0.000000</td>\n      <td>0.0625</td>\n      <td>0.0</td>\n      <td>1</td>\n    </tr>\n    <tr>\n      <th>2</th>\n      <td>0.000000</td>\n      <td>0.047619</td>\n      <td>0.000000</td>\n      <td>0.000000</td>\n      <td>0.0</td>\n      <td>0.166667</td>\n      <td>0.000000</td>\n      <td>0.000000</td>\n      <td>0.00000</td>\n      <td>0.022222</td>\n      <td>...</td>\n      <td>0.1250</td>\n      <td>0.0</td>\n      <td>0.0</td>\n      <td>0.02381</td>\n      <td>0.000000</td>\n      <td>0.000000</td>\n      <td>0.000000</td>\n      <td>0.0000</td>\n      <td>0.0</td>\n      <td>1</td>\n    </tr>\n    <tr>\n      <th>3</th>\n      <td>0.016667</td>\n      <td>0.000000</td>\n      <td>0.023256</td>\n      <td>0.016949</td>\n      <td>0.0</td>\n      <td>0.041667</td>\n      <td>0.000000</td>\n      <td>0.022727</td>\n      <td>0.00000</td>\n      <td>0.000000</td>\n      <td>...</td>\n      <td>0.0000</td>\n      <td>0.0</td>\n      <td>0.0</td>\n      <td>0.00000</td>\n      <td>0.000000</td>\n      <td>0.000000</td>\n      <td>0.019048</td>\n      <td>0.0000</td>\n      <td>0.0</td>\n      <td>1</td>\n    </tr>\n    <tr>\n      <th>4</th>\n      <td>0.000000</td>\n      <td>0.047619</td>\n      <td>0.023256</td>\n      <td>0.016949</td>\n      <td>0.0</td>\n      <td>0.000000</td>\n      <td>0.000000</td>\n      <td>0.022727</td>\n      <td>0.00000</td>\n      <td>0.000000</td>\n      <td>...</td>\n      <td>0.0625</td>\n      <td>0.0</td>\n      <td>0.0</td>\n      <td>0.02381</td>\n      <td>0.032609</td>\n      <td>0.000000</td>\n      <td>0.019048</td>\n      <td>0.0000</td>\n      <td>0.0</td>\n      <td>1</td>\n    </tr>\n  </tbody>\n</table>\n<p>5 rows × 1501 columns</p>\n</div>"
     },
     "metadata": {},
     "execution_count": 356
    }
   ],
   "source": [
    "#concatenate car and non-car dataset\n",
    "df = pd.concat([car_df, noise_df])\n",
    "df.head()"
   ]
  },
  {
   "cell_type": "code",
   "execution_count": 358,
   "metadata": {},
   "outputs": [
    {
     "output_type": "display_data",
     "data": {
      "text/plain": "          0         1         2         3    4         5         6         7  \\\n0  0.000000  0.000000  0.046512  0.000000  0.0  0.000000  0.015385  0.000000   \n1  0.000000  0.000000  0.116279  0.016949  0.0  0.041667  0.000000  0.000000   \n2  0.000000  0.047619  0.000000  0.000000  0.0  0.166667  0.000000  0.000000   \n3  0.016667  0.000000  0.023256  0.016949  0.0  0.041667  0.000000  0.022727   \n4  0.000000  0.047619  0.023256  0.016949  0.0  0.000000  0.000000  0.022727   \n\n         8         9  ...  1490    1491  1492  1493     1494      1495  \\\n0  0.00000  0.000000  ...  0.10  0.1875   0.0   0.0  0.02381  0.010870   \n1  0.02439  0.044444  ...  0.00  0.0000   0.0   0.0  0.02381  0.000000   \n2  0.00000  0.022222  ...  0.05  0.1250   0.0   0.0  0.02381  0.000000   \n3  0.00000  0.000000  ...  0.10  0.0000   0.0   0.0  0.00000  0.000000   \n4  0.00000  0.000000  ...  0.05  0.0625   0.0   0.0  0.02381  0.032609   \n\n       1496      1497    1498  1499  \n0  0.000000  0.000000  0.0000   0.0  \n1  0.027778  0.000000  0.0625   0.0  \n2  0.000000  0.000000  0.0000   0.0  \n3  0.000000  0.019048  0.0000   0.0  \n4  0.000000  0.019048  0.0000   0.0  \n\n[5 rows x 1500 columns]",
      "text/html": "<div>\n<style scoped>\n    .dataframe tbody tr th:only-of-type {\n        vertical-align: middle;\n    }\n\n    .dataframe tbody tr th {\n        vertical-align: top;\n    }\n\n    .dataframe thead th {\n        text-align: right;\n    }\n</style>\n<table border=\"1\" class=\"dataframe\">\n  <thead>\n    <tr style=\"text-align: right;\">\n      <th></th>\n      <th>0</th>\n      <th>1</th>\n      <th>2</th>\n      <th>3</th>\n      <th>4</th>\n      <th>5</th>\n      <th>6</th>\n      <th>7</th>\n      <th>8</th>\n      <th>9</th>\n      <th>...</th>\n      <th>1490</th>\n      <th>1491</th>\n      <th>1492</th>\n      <th>1493</th>\n      <th>1494</th>\n      <th>1495</th>\n      <th>1496</th>\n      <th>1497</th>\n      <th>1498</th>\n      <th>1499</th>\n    </tr>\n  </thead>\n  <tbody>\n    <tr>\n      <th>0</th>\n      <td>0.000000</td>\n      <td>0.000000</td>\n      <td>0.046512</td>\n      <td>0.000000</td>\n      <td>0.0</td>\n      <td>0.000000</td>\n      <td>0.015385</td>\n      <td>0.000000</td>\n      <td>0.00000</td>\n      <td>0.000000</td>\n      <td>...</td>\n      <td>0.10</td>\n      <td>0.1875</td>\n      <td>0.0</td>\n      <td>0.0</td>\n      <td>0.02381</td>\n      <td>0.010870</td>\n      <td>0.000000</td>\n      <td>0.000000</td>\n      <td>0.0000</td>\n      <td>0.0</td>\n    </tr>\n    <tr>\n      <th>1</th>\n      <td>0.000000</td>\n      <td>0.000000</td>\n      <td>0.116279</td>\n      <td>0.016949</td>\n      <td>0.0</td>\n      <td>0.041667</td>\n      <td>0.000000</td>\n      <td>0.000000</td>\n      <td>0.02439</td>\n      <td>0.044444</td>\n      <td>...</td>\n      <td>0.00</td>\n      <td>0.0000</td>\n      <td>0.0</td>\n      <td>0.0</td>\n      <td>0.02381</td>\n      <td>0.000000</td>\n      <td>0.027778</td>\n      <td>0.000000</td>\n      <td>0.0625</td>\n      <td>0.0</td>\n    </tr>\n    <tr>\n      <th>2</th>\n      <td>0.000000</td>\n      <td>0.047619</td>\n      <td>0.000000</td>\n      <td>0.000000</td>\n      <td>0.0</td>\n      <td>0.166667</td>\n      <td>0.000000</td>\n      <td>0.000000</td>\n      <td>0.00000</td>\n      <td>0.022222</td>\n      <td>...</td>\n      <td>0.05</td>\n      <td>0.1250</td>\n      <td>0.0</td>\n      <td>0.0</td>\n      <td>0.02381</td>\n      <td>0.000000</td>\n      <td>0.000000</td>\n      <td>0.000000</td>\n      <td>0.0000</td>\n      <td>0.0</td>\n    </tr>\n    <tr>\n      <th>3</th>\n      <td>0.016667</td>\n      <td>0.000000</td>\n      <td>0.023256</td>\n      <td>0.016949</td>\n      <td>0.0</td>\n      <td>0.041667</td>\n      <td>0.000000</td>\n      <td>0.022727</td>\n      <td>0.00000</td>\n      <td>0.000000</td>\n      <td>...</td>\n      <td>0.10</td>\n      <td>0.0000</td>\n      <td>0.0</td>\n      <td>0.0</td>\n      <td>0.00000</td>\n      <td>0.000000</td>\n      <td>0.000000</td>\n      <td>0.019048</td>\n      <td>0.0000</td>\n      <td>0.0</td>\n    </tr>\n    <tr>\n      <th>4</th>\n      <td>0.000000</td>\n      <td>0.047619</td>\n      <td>0.023256</td>\n      <td>0.016949</td>\n      <td>0.0</td>\n      <td>0.000000</td>\n      <td>0.000000</td>\n      <td>0.022727</td>\n      <td>0.00000</td>\n      <td>0.000000</td>\n      <td>...</td>\n      <td>0.05</td>\n      <td>0.0625</td>\n      <td>0.0</td>\n      <td>0.0</td>\n      <td>0.02381</td>\n      <td>0.032609</td>\n      <td>0.000000</td>\n      <td>0.019048</td>\n      <td>0.0000</td>\n      <td>0.0</td>\n    </tr>\n  </tbody>\n</table>\n<p>5 rows × 1500 columns</p>\n</div>"
     },
     "metadata": {}
    },
    {
     "output_type": "display_data",
     "data": {
      "text/plain": "0    1\n1    1\n2    1\n3    1\n4    1\nName: y, dtype: int64"
     },
     "metadata": {}
    }
   ],
   "source": [
    "#create X and y input for ML model\n",
    "X = df.drop(columns = ['y'])\n",
    "y = df['y']\n",
    "\n",
    "#Do below when you have Columns 500 and 501\n",
    "# X = df.drop(columns = ['y', '500','501'])\n",
    "# y = df['y']\n",
    "display(X.head())\n",
    "display(y.head())"
   ]
  },
  {
   "cell_type": "code",
   "execution_count": 359,
   "metadata": {},
   "outputs": [],
   "source": [
    "X_train, X_test, Y_train, Y_test = train_test_split(X.values, y.values, test_size = 0.05, shuffle = True)"
   ]
  },
  {
   "cell_type": "code",
   "execution_count": 360,
   "metadata": {},
   "outputs": [
    {
     "output_type": "execute_result",
     "data": {
      "text/plain": [
       "array([1, 1, 1, 1, 1])"
      ]
     },
     "metadata": {},
     "execution_count": 360
    }
   ],
   "source": [
    "Y_test[:5]"
   ]
  },
  {
   "cell_type": "code",
   "execution_count": 361,
   "metadata": {},
   "outputs": [
    {
     "output_type": "execute_result",
     "data": {
      "text/plain": [
       "12637"
      ]
     },
     "metadata": {},
     "execution_count": 361
    }
   ],
   "source": [
    "len(X_train)"
   ]
  },
  {
   "cell_type": "code",
   "execution_count": 362,
   "metadata": {},
   "outputs": [],
   "source": [
    "model_SVC = SVC(probability=True)"
   ]
  },
  {
   "cell_type": "code",
   "execution_count": 363,
   "metadata": {},
   "outputs": [
    {
     "output_type": "stream",
     "name": "stdout",
     "text": [
      "558.6891770362854\n"
     ]
    }
   ],
   "source": [
    "#train the SVM classifier\n",
    "start_time = time.time()\n",
    "model_SVC.fit(X = X_train, y = Y_train)\n",
    "print(time.time() - start_time)"
   ]
  },
  {
   "cell_type": "code",
   "execution_count": 364,
   "metadata": {},
   "outputs": [],
   "source": [
    "Y_predict = model_SVC.predict(X_test)"
   ]
  },
  {
   "cell_type": "code",
   "execution_count": 365,
   "metadata": {},
   "outputs": [
    {
     "output_type": "execute_result",
     "data": {
      "text/plain": [
       "0.9886914378029079"
      ]
     },
     "metadata": {},
     "execution_count": 365
    }
   ],
   "source": [
    "f1_score(y_true = Y_test, y_pred = Y_predict)\n",
    "#Previous Iteration: 2.1% - 20%\n",
    "#After all corrections! v1: 99% -> v3: 0.997"
   ]
  },
  {
   "cell_type": "code",
   "execution_count": 366,
   "metadata": {},
   "outputs": [
    {
     "output_type": "execute_result",
     "data": {
      "text/plain": [
       "0.9894894894894894"
      ]
     },
     "metadata": {},
     "execution_count": 366
    }
   ],
   "source": [
    "accuracy_score(y_true = Y_test, y_pred = Y_predict)\n",
    "#Previous Iteration: 2.1% - 20%\n",
    "#After all corrections! v1: 0.994 -> v3: 0.997"
   ]
  },
  {
   "cell_type": "code",
   "execution_count": 367,
   "metadata": {},
   "outputs": [],
   "source": [
    "#Testing the prediction accuracy with Validation Data\n",
    "#import all the feature descriptors\n",
    "#path_dir = os.getcwd()\n",
    "#valid_dir = \"\\\\\".join((path_dir, \"ORB_Dataset\", \"val\"))\n",
    "#valid_files = os.listdir(valid_dir)\n",
    "#valid_car_dir = \"\\\\\".join((valid_dir, valid_files[0]))\n",
    "#valid_noise_dir = \"\\\\\".join((valid_dir, valid_files[1]))\n",
    "valid_car_dir = 'cars_1_819_val_nolabel.txt'\n",
    "valid_noise_dir = 'nocars_1_847_val_nolabel.txt'\n"
   ]
  },
  {
   "cell_type": "code",
   "execution_count": 368,
   "metadata": {},
   "outputs": [
    {
     "output_type": "execute_result",
     "data": {
      "text/plain": [
       "'nocars_1_847_val_nolabel.txt'"
      ]
     },
     "metadata": {},
     "execution_count": 368
    }
   ],
   "source": [
    "valid_noise_dir"
   ]
  },
  {
   "cell_type": "code",
   "execution_count": 369,
   "metadata": {},
   "outputs": [
    {
     "output_type": "stream",
     "name": "stdout",
     "text": [
      "1.129073143005371\n"
     ]
    }
   ],
   "source": [
    "#import descriptors from validation datasets\n",
    "start_time = time.time()\n",
    "valid_car_descriptors = []\n",
    "with open(valid_car_dir, 'rb') as fil_name:\n",
    "    valid_car_descriptors = pickle.load(fil_name)\n",
    "print(time.time() - start_time)"
   ]
  },
  {
   "cell_type": "code",
   "execution_count": 370,
   "metadata": {},
   "outputs": [
    {
     "output_type": "stream",
     "name": "stdout",
     "text": [
      "0.863286018371582\n"
     ]
    }
   ],
   "source": [
    "start_time = time.time()\n",
    "valid_noise_descriptors = []\n",
    "with open(valid_noise_dir, 'rb') as fil_name:\n",
    "    valid_noise_descriptors = pickle.load(fil_name)\n",
    "print(time.time() - start_time)"
   ]
  },
  {
   "cell_type": "code",
   "execution_count": 371,
   "metadata": {},
   "outputs": [],
   "source": [
    "#use this method to extract cluster labels from validation dataset\n",
    "def cluster_labels(pickle_file, model):\n",
    "    start_time = time.time()\n",
    "    #pickle_file = car_descriptors\n",
    "    \n",
    "    img_cluster = []\n",
    "    for img_desc in pickle_file:\n",
    "        cluster_desc = []\n",
    "        if (not img_desc is None) and len(img_desc)> 0:\n",
    "            #for desc in img_desc:\n",
    "            cluster_desc = model.predict(img_desc)\n",
    "            img_cluster.append(cluster_desc)\n",
    "    print(time.time() - start_time)\n",
    "    return(img_cluster)"
   ]
  },
  {
   "cell_type": "code",
   "execution_count": 372,
   "metadata": {},
   "outputs": [],
   "source": [
    "#import kmeans model\n",
    "n_cluster = 1500\n",
    "with open(\"KMeans_c_1500_b_32_rs_5_.sav\", 'rb') as f_name:\n",
    "    kmeans_batch = pickle.load(f_name)"
   ]
  },
  {
   "cell_type": "code",
   "execution_count": 373,
   "metadata": {},
   "outputs": [
    {
     "output_type": "stream",
     "name": "stdout",
     "text": [
      "43.54148983955383\n",
      "45.27720808982849\n"
     ]
    }
   ],
   "source": [
    "valid_car_clusters = np.array(cluster_labels(pickle_file = valid_car_descriptors, model = kmeans_batch))\n",
    "valid_noise_clusters = np.array(cluster_labels(pickle_file = valid_noise_descriptors, model = kmeans_batch))"
   ]
  },
  {
   "cell_type": "code",
   "execution_count": 374,
   "metadata": {},
   "outputs": [
    {
     "output_type": "display_data",
     "data": {
      "text/plain": "(819,)"
     },
     "metadata": {}
    },
    {
     "output_type": "display_data",
     "data": {
      "text/plain": "(842,)"
     },
     "metadata": {}
    }
   ],
   "source": [
    "display(np.shape(valid_car_clusters))\n",
    "display(np.shape(valid_noise_clusters))"
   ]
  },
  {
   "cell_type": "code",
   "execution_count": 375,
   "metadata": {},
   "outputs": [],
   "source": [
    "def cluster_histogram(img_clusters, n_clusters = 500):\n",
    "    start_time = time.time()\n",
    "    hist_arr = []\n",
    "    for img in img_clusters:\n",
    "        hist = np.zeros(n_clusters)\n",
    "        for cluster in img:\n",
    "            hist[cluster] += 1\n",
    "        hist_arr.append(hist)\n",
    "    print(time.time() - start_time)\n",
    "    return(hist_arr)"
   ]
  },
  {
   "cell_type": "code",
   "execution_count": 376,
   "metadata": {},
   "outputs": [
    {
     "output_type": "stream",
     "name": "stdout",
     "text": [
      "1.2124431133270264\n",
      "1.401026725769043\n"
     ]
    }
   ],
   "source": [
    "#extract cluster histograms from validation dataset\n",
    "n_cluster = 1500\n",
    "car_hist = cluster_histogram(img_clusters = valid_car_clusters, n_clusters = n_cluster)\n",
    "noise_hist = cluster_histogram(img_clusters = valid_noise_clusters, n_clusters = n_cluster)"
   ]
  },
  {
   "cell_type": "code",
   "execution_count": 377,
   "metadata": {},
   "outputs": [],
   "source": [
    "#standardise the histograms gained from validation dataset\n",
    "valid_car_hist = pd.DataFrame(car_hist)\n",
    "sscaler = StandardScaler()\n",
    "valid_car_hist_ss = pd.DataFrame(sscaler.fit_transform(valid_car_hist))\n",
    "#print(np.max(car_df_v1[0]))\n",
    "mm_scalar = MinMaxScaler()\n",
    "valid_car_hist_mm = pd.DataFrame(mm_scalar.fit_transform(valid_car_hist))"
   ]
  },
  {
   "cell_type": "code",
   "execution_count": 378,
   "metadata": {},
   "outputs": [],
   "source": [
    "valid_noise_hist = pd.DataFrame(noise_hist)\n",
    "sscaler = StandardScaler()\n",
    "valid_noise_hist_ss = pd.DataFrame(sscaler.fit_transform(valid_noise_hist))\n",
    "mm_scalar = MinMaxScaler()\n",
    "valid_noise_hist_mm = pd.DataFrame(mm_scalar.fit_transform(valid_noise_hist))"
   ]
  },
  {
   "cell_type": "code",
   "execution_count": 379,
   "metadata": {},
   "outputs": [],
   "source": [
    "sample_car_mm = valid_car_hist_mm\n",
    "sample_noise_mm = valid_noise_hist_mm\n",
    "\n",
    "sample_car_ss = valid_car_hist_ss\n",
    "sample_noise_ss = valid_noise_hist_ss"
   ]
  },
  {
   "cell_type": "code",
   "execution_count": 380,
   "metadata": {},
   "outputs": [
    {
     "output_type": "stream",
     "name": "stdout",
     "text": [
      "False\nFalse\n"
     ]
    }
   ],
   "source": [
    "# It happens that sometimes there are no freq found for that particular cluster\n",
    "print(np.any(sample_car_mm.isna())) \n",
    "print(np.any(sample_noise_mm.isna()))"
   ]
  },
  {
   "cell_type": "code",
   "execution_count": 381,
   "metadata": {},
   "outputs": [],
   "source": [
    "#save validation histograms\n",
    "sample_car_mm.to_csv(\"Valid_Car_Hist_MinMax_Max1500_v1.csv\", sep = ',', index= False)\n",
    "sample_car_ss.to_csv(\"Valid_Car_Hist_SS_Max1500_v1.csv\", sep = ',', index= False)\n",
    "sample_noise_mm.to_csv(\"Valid_Noise_Hist_MinMax_Max1500_v1.csv\", sep = ',', index= False)\n",
    "sample_noise_ss.to_csv(\"Valid_Noise_Hist_SS_Max1500_v1.csv\", sep = ',', index= False)"
   ]
  },
  {
   "cell_type": "code",
   "execution_count": 382,
   "metadata": {},
   "outputs": [
    {
     "output_type": "execute_result",
     "data": {
      "text/plain": [
       "819"
      ]
     },
     "metadata": {},
     "execution_count": 382
    }
   ],
   "source": [
    "len(sample_car_mm)"
   ]
  },
  {
   "cell_type": "code",
   "execution_count": 383,
   "metadata": {},
   "outputs": [
    {
     "output_type": "execute_result",
     "data": {
      "text/plain": [
       "            0         1         2         3         4         5         6  \\\n",
       "0    0.000000  0.230769  0.034483  0.000000  0.111111  0.153846  0.115385   \n",
       "1    0.000000  0.076923  0.034483  0.062500  0.000000  0.153846  0.076923   \n",
       "2    0.000000  0.000000  0.000000  0.000000  0.000000  0.153846  0.076923   \n",
       "3    0.000000  0.000000  0.034483  0.062500  0.111111  0.000000  0.076923   \n",
       "4    0.000000  0.076923  0.034483  0.062500  0.111111  0.153846  0.153846   \n",
       "..        ...       ...       ...       ...       ...       ...       ...   \n",
       "837  0.000000  0.083333  0.000000  0.000000  0.000000  0.000000  0.009174   \n",
       "838  0.000000  0.083333  0.133333  0.000000  0.000000  0.083333  0.018349   \n",
       "839  0.000000  0.000000  0.000000  0.000000  0.000000  0.000000  0.000000   \n",
       "840  0.000000  0.083333  0.066667  0.000000  0.000000  0.083333  0.000000   \n",
       "841  0.055556  0.083333  0.333333  0.357143  0.000000  0.250000  0.018349   \n",
       "\n",
       "            7         8         9  ...      1491      1492      1493  \\\n",
       "0    0.111111  0.043478  0.086957  ...  0.214286  0.307692  0.250000   \n",
       "1    0.111111  0.000000  0.043478  ...  0.000000  0.153846  0.166667   \n",
       "2    0.000000  0.086957  0.000000  ...  0.071429  0.076923  0.000000   \n",
       "3    0.111111  0.043478  0.086957  ...  0.000000  0.000000  0.000000   \n",
       "4    0.333333  0.086957  0.260870  ...  0.071429  0.076923  0.083333   \n",
       "..        ...       ...       ...  ...       ...       ...       ...   \n",
       "837  0.000000  0.000000  0.000000  ...  0.000000  0.000000  0.000000   \n",
       "838  0.000000  0.000000  0.068966  ...  0.000000  0.111111  0.000000   \n",
       "839  0.020000  0.095238  0.034483  ...  0.090909  0.000000  0.071429   \n",
       "840  0.000000  0.047619  0.034483  ...  0.000000  0.000000  0.000000   \n",
       "841  0.020000  0.142857  0.034483  ...  0.090909  0.000000  0.214286   \n",
       "\n",
       "         1494   1495      1496  1497      1498      1499  y  \n",
       "0    0.071429  0.050  0.000000   0.0  0.083333  0.083333  1  \n",
       "1    0.000000  0.000  0.050000   0.0  0.000000  0.000000  1  \n",
       "2    0.071429  0.000  0.000000   0.0  0.083333  0.000000  1  \n",
       "3    0.071429  0.000  0.000000   0.0  0.083333  0.000000  1  \n",
       "4    0.000000  0.100  0.000000   0.0  0.166667  0.083333  1  \n",
       "..        ...    ...       ...   ...       ...       ... ..  \n",
       "837  0.000000  0.000  0.000000   0.0  0.142857  0.000000  0  \n",
       "838  0.000000  0.000  0.000000   0.0  0.000000  0.076923  0  \n",
       "839  0.052632  0.025  0.052632   0.0  0.000000  0.000000  0  \n",
       "840  0.000000  0.000  0.052632   0.0  0.000000  0.000000  0  \n",
       "841  0.315789  0.000  0.000000   0.0  0.571429  0.000000  0  \n",
       "\n",
       "[1661 rows x 1501 columns]"
      ],
      "text/html": "<div>\n<style scoped>\n    .dataframe tbody tr th:only-of-type {\n        vertical-align: middle;\n    }\n\n    .dataframe tbody tr th {\n        vertical-align: top;\n    }\n\n    .dataframe thead th {\n        text-align: right;\n    }\n</style>\n<table border=\"1\" class=\"dataframe\">\n  <thead>\n    <tr style=\"text-align: right;\">\n      <th></th>\n      <th>0</th>\n      <th>1</th>\n      <th>2</th>\n      <th>3</th>\n      <th>4</th>\n      <th>5</th>\n      <th>6</th>\n      <th>7</th>\n      <th>8</th>\n      <th>9</th>\n      <th>...</th>\n      <th>1491</th>\n      <th>1492</th>\n      <th>1493</th>\n      <th>1494</th>\n      <th>1495</th>\n      <th>1496</th>\n      <th>1497</th>\n      <th>1498</th>\n      <th>1499</th>\n      <th>y</th>\n    </tr>\n  </thead>\n  <tbody>\n    <tr>\n      <th>0</th>\n      <td>0.000000</td>\n      <td>0.230769</td>\n      <td>0.034483</td>\n      <td>0.000000</td>\n      <td>0.111111</td>\n      <td>0.153846</td>\n      <td>0.115385</td>\n      <td>0.111111</td>\n      <td>0.043478</td>\n      <td>0.086957</td>\n      <td>...</td>\n      <td>0.214286</td>\n      <td>0.307692</td>\n      <td>0.250000</td>\n      <td>0.071429</td>\n      <td>0.050</td>\n      <td>0.000000</td>\n      <td>0.0</td>\n      <td>0.083333</td>\n      <td>0.083333</td>\n      <td>1</td>\n    </tr>\n    <tr>\n      <th>1</th>\n      <td>0.000000</td>\n      <td>0.076923</td>\n      <td>0.034483</td>\n      <td>0.062500</td>\n      <td>0.000000</td>\n      <td>0.153846</td>\n      <td>0.076923</td>\n      <td>0.111111</td>\n      <td>0.000000</td>\n      <td>0.043478</td>\n      <td>...</td>\n      <td>0.000000</td>\n      <td>0.153846</td>\n      <td>0.166667</td>\n      <td>0.000000</td>\n      <td>0.000</td>\n      <td>0.050000</td>\n      <td>0.0</td>\n      <td>0.000000</td>\n      <td>0.000000</td>\n      <td>1</td>\n    </tr>\n    <tr>\n      <th>2</th>\n      <td>0.000000</td>\n      <td>0.000000</td>\n      <td>0.000000</td>\n      <td>0.000000</td>\n      <td>0.000000</td>\n      <td>0.153846</td>\n      <td>0.076923</td>\n      <td>0.000000</td>\n      <td>0.086957</td>\n      <td>0.000000</td>\n      <td>...</td>\n      <td>0.071429</td>\n      <td>0.076923</td>\n      <td>0.000000</td>\n      <td>0.071429</td>\n      <td>0.000</td>\n      <td>0.000000</td>\n      <td>0.0</td>\n      <td>0.083333</td>\n      <td>0.000000</td>\n      <td>1</td>\n    </tr>\n    <tr>\n      <th>3</th>\n      <td>0.000000</td>\n      <td>0.000000</td>\n      <td>0.034483</td>\n      <td>0.062500</td>\n      <td>0.111111</td>\n      <td>0.000000</td>\n      <td>0.076923</td>\n      <td>0.111111</td>\n      <td>0.043478</td>\n      <td>0.086957</td>\n      <td>...</td>\n      <td>0.000000</td>\n      <td>0.000000</td>\n      <td>0.000000</td>\n      <td>0.071429</td>\n      <td>0.000</td>\n      <td>0.000000</td>\n      <td>0.0</td>\n      <td>0.083333</td>\n      <td>0.000000</td>\n      <td>1</td>\n    </tr>\n    <tr>\n      <th>4</th>\n      <td>0.000000</td>\n      <td>0.076923</td>\n      <td>0.034483</td>\n      <td>0.062500</td>\n      <td>0.111111</td>\n      <td>0.153846</td>\n      <td>0.153846</td>\n      <td>0.333333</td>\n      <td>0.086957</td>\n      <td>0.260870</td>\n      <td>...</td>\n      <td>0.071429</td>\n      <td>0.076923</td>\n      <td>0.083333</td>\n      <td>0.000000</td>\n      <td>0.100</td>\n      <td>0.000000</td>\n      <td>0.0</td>\n      <td>0.166667</td>\n      <td>0.083333</td>\n      <td>1</td>\n    </tr>\n    <tr>\n      <th>...</th>\n      <td>...</td>\n      <td>...</td>\n      <td>...</td>\n      <td>...</td>\n      <td>...</td>\n      <td>...</td>\n      <td>...</td>\n      <td>...</td>\n      <td>...</td>\n      <td>...</td>\n      <td>...</td>\n      <td>...</td>\n      <td>...</td>\n      <td>...</td>\n      <td>...</td>\n      <td>...</td>\n      <td>...</td>\n      <td>...</td>\n      <td>...</td>\n      <td>...</td>\n      <td>...</td>\n    </tr>\n    <tr>\n      <th>837</th>\n      <td>0.000000</td>\n      <td>0.083333</td>\n      <td>0.000000</td>\n      <td>0.000000</td>\n      <td>0.000000</td>\n      <td>0.000000</td>\n      <td>0.009174</td>\n      <td>0.000000</td>\n      <td>0.000000</td>\n      <td>0.000000</td>\n      <td>...</td>\n      <td>0.000000</td>\n      <td>0.000000</td>\n      <td>0.000000</td>\n      <td>0.000000</td>\n      <td>0.000</td>\n      <td>0.000000</td>\n      <td>0.0</td>\n      <td>0.142857</td>\n      <td>0.000000</td>\n      <td>0</td>\n    </tr>\n    <tr>\n      <th>838</th>\n      <td>0.000000</td>\n      <td>0.083333</td>\n      <td>0.133333</td>\n      <td>0.000000</td>\n      <td>0.000000</td>\n      <td>0.083333</td>\n      <td>0.018349</td>\n      <td>0.000000</td>\n      <td>0.000000</td>\n      <td>0.068966</td>\n      <td>...</td>\n      <td>0.000000</td>\n      <td>0.111111</td>\n      <td>0.000000</td>\n      <td>0.000000</td>\n      <td>0.000</td>\n      <td>0.000000</td>\n      <td>0.0</td>\n      <td>0.000000</td>\n      <td>0.076923</td>\n      <td>0</td>\n    </tr>\n    <tr>\n      <th>839</th>\n      <td>0.000000</td>\n      <td>0.000000</td>\n      <td>0.000000</td>\n      <td>0.000000</td>\n      <td>0.000000</td>\n      <td>0.000000</td>\n      <td>0.000000</td>\n      <td>0.020000</td>\n      <td>0.095238</td>\n      <td>0.034483</td>\n      <td>...</td>\n      <td>0.090909</td>\n      <td>0.000000</td>\n      <td>0.071429</td>\n      <td>0.052632</td>\n      <td>0.025</td>\n      <td>0.052632</td>\n      <td>0.0</td>\n      <td>0.000000</td>\n      <td>0.000000</td>\n      <td>0</td>\n    </tr>\n    <tr>\n      <th>840</th>\n      <td>0.000000</td>\n      <td>0.083333</td>\n      <td>0.066667</td>\n      <td>0.000000</td>\n      <td>0.000000</td>\n      <td>0.083333</td>\n      <td>0.000000</td>\n      <td>0.000000</td>\n      <td>0.047619</td>\n      <td>0.034483</td>\n      <td>...</td>\n      <td>0.000000</td>\n      <td>0.000000</td>\n      <td>0.000000</td>\n      <td>0.000000</td>\n      <td>0.000</td>\n      <td>0.052632</td>\n      <td>0.0</td>\n      <td>0.000000</td>\n      <td>0.000000</td>\n      <td>0</td>\n    </tr>\n    <tr>\n      <th>841</th>\n      <td>0.055556</td>\n      <td>0.083333</td>\n      <td>0.333333</td>\n      <td>0.357143</td>\n      <td>0.000000</td>\n      <td>0.250000</td>\n      <td>0.018349</td>\n      <td>0.020000</td>\n      <td>0.142857</td>\n      <td>0.034483</td>\n      <td>...</td>\n      <td>0.090909</td>\n      <td>0.000000</td>\n      <td>0.214286</td>\n      <td>0.315789</td>\n      <td>0.000</td>\n      <td>0.000000</td>\n      <td>0.0</td>\n      <td>0.571429</td>\n      <td>0.000000</td>\n      <td>0</td>\n    </tr>\n  </tbody>\n</table>\n<p>1661 rows × 1501 columns</p>\n</div>"
     },
     "metadata": {},
     "execution_count": 383
    }
   ],
   "source": [
    "valid_car_df = sample_car_mm\n",
    "valid_noise_df = sample_noise_mm\n",
    "valid_car_df['y'] = 1\n",
    "valid_noise_df['y'] = 0\n",
    "valid_df = pd.concat([valid_car_df, valid_noise_df])\n",
    "valid_df"
   ]
  },
  {
   "cell_type": "code",
   "execution_count": 384,
   "metadata": {},
   "outputs": [
    {
     "output_type": "display_data",
     "data": {
      "text/plain": "          0         1         2         3    4         5         6         7  \\\n0  0.000000  0.000000  0.046512  0.000000  0.0  0.000000  0.015385  0.000000   \n1  0.000000  0.000000  0.116279  0.016949  0.0  0.041667  0.000000  0.000000   \n2  0.000000  0.047619  0.000000  0.000000  0.0  0.166667  0.000000  0.000000   \n3  0.016667  0.000000  0.023256  0.016949  0.0  0.041667  0.000000  0.022727   \n4  0.000000  0.047619  0.023256  0.016949  0.0  0.000000  0.000000  0.022727   \n\n         8         9  ...  1490    1491  1492  1493     1494      1495  \\\n0  0.00000  0.000000  ...  0.10  0.1875   0.0   0.0  0.02381  0.010870   \n1  0.02439  0.044444  ...  0.00  0.0000   0.0   0.0  0.02381  0.000000   \n2  0.00000  0.022222  ...  0.05  0.1250   0.0   0.0  0.02381  0.000000   \n3  0.00000  0.000000  ...  0.10  0.0000   0.0   0.0  0.00000  0.000000   \n4  0.00000  0.000000  ...  0.05  0.0625   0.0   0.0  0.02381  0.032609   \n\n       1496      1497    1498  1499  \n0  0.000000  0.000000  0.0000   0.0  \n1  0.027778  0.000000  0.0625   0.0  \n2  0.000000  0.000000  0.0000   0.0  \n3  0.000000  0.019048  0.0000   0.0  \n4  0.000000  0.019048  0.0000   0.0  \n\n[5 rows x 1500 columns]",
      "text/html": "<div>\n<style scoped>\n    .dataframe tbody tr th:only-of-type {\n        vertical-align: middle;\n    }\n\n    .dataframe tbody tr th {\n        vertical-align: top;\n    }\n\n    .dataframe thead th {\n        text-align: right;\n    }\n</style>\n<table border=\"1\" class=\"dataframe\">\n  <thead>\n    <tr style=\"text-align: right;\">\n      <th></th>\n      <th>0</th>\n      <th>1</th>\n      <th>2</th>\n      <th>3</th>\n      <th>4</th>\n      <th>5</th>\n      <th>6</th>\n      <th>7</th>\n      <th>8</th>\n      <th>9</th>\n      <th>...</th>\n      <th>1490</th>\n      <th>1491</th>\n      <th>1492</th>\n      <th>1493</th>\n      <th>1494</th>\n      <th>1495</th>\n      <th>1496</th>\n      <th>1497</th>\n      <th>1498</th>\n      <th>1499</th>\n    </tr>\n  </thead>\n  <tbody>\n    <tr>\n      <th>0</th>\n      <td>0.000000</td>\n      <td>0.000000</td>\n      <td>0.046512</td>\n      <td>0.000000</td>\n      <td>0.0</td>\n      <td>0.000000</td>\n      <td>0.015385</td>\n      <td>0.000000</td>\n      <td>0.00000</td>\n      <td>0.000000</td>\n      <td>...</td>\n      <td>0.10</td>\n      <td>0.1875</td>\n      <td>0.0</td>\n      <td>0.0</td>\n      <td>0.02381</td>\n      <td>0.010870</td>\n      <td>0.000000</td>\n      <td>0.000000</td>\n      <td>0.0000</td>\n      <td>0.0</td>\n    </tr>\n    <tr>\n      <th>1</th>\n      <td>0.000000</td>\n      <td>0.000000</td>\n      <td>0.116279</td>\n      <td>0.016949</td>\n      <td>0.0</td>\n      <td>0.041667</td>\n      <td>0.000000</td>\n      <td>0.000000</td>\n      <td>0.02439</td>\n      <td>0.044444</td>\n      <td>...</td>\n      <td>0.00</td>\n      <td>0.0000</td>\n      <td>0.0</td>\n      <td>0.0</td>\n      <td>0.02381</td>\n      <td>0.000000</td>\n      <td>0.027778</td>\n      <td>0.000000</td>\n      <td>0.0625</td>\n      <td>0.0</td>\n    </tr>\n    <tr>\n      <th>2</th>\n      <td>0.000000</td>\n      <td>0.047619</td>\n      <td>0.000000</td>\n      <td>0.000000</td>\n      <td>0.0</td>\n      <td>0.166667</td>\n      <td>0.000000</td>\n      <td>0.000000</td>\n      <td>0.00000</td>\n      <td>0.022222</td>\n      <td>...</td>\n      <td>0.05</td>\n      <td>0.1250</td>\n      <td>0.0</td>\n      <td>0.0</td>\n      <td>0.02381</td>\n      <td>0.000000</td>\n      <td>0.000000</td>\n      <td>0.000000</td>\n      <td>0.0000</td>\n      <td>0.0</td>\n    </tr>\n    <tr>\n      <th>3</th>\n      <td>0.016667</td>\n      <td>0.000000</td>\n      <td>0.023256</td>\n      <td>0.016949</td>\n      <td>0.0</td>\n      <td>0.041667</td>\n      <td>0.000000</td>\n      <td>0.022727</td>\n      <td>0.00000</td>\n      <td>0.000000</td>\n      <td>...</td>\n      <td>0.10</td>\n      <td>0.0000</td>\n      <td>0.0</td>\n      <td>0.0</td>\n      <td>0.00000</td>\n      <td>0.000000</td>\n      <td>0.000000</td>\n      <td>0.019048</td>\n      <td>0.0000</td>\n      <td>0.0</td>\n    </tr>\n    <tr>\n      <th>4</th>\n      <td>0.000000</td>\n      <td>0.047619</td>\n      <td>0.023256</td>\n      <td>0.016949</td>\n      <td>0.0</td>\n      <td>0.000000</td>\n      <td>0.000000</td>\n      <td>0.022727</td>\n      <td>0.00000</td>\n      <td>0.000000</td>\n      <td>...</td>\n      <td>0.05</td>\n      <td>0.0625</td>\n      <td>0.0</td>\n      <td>0.0</td>\n      <td>0.02381</td>\n      <td>0.032609</td>\n      <td>0.000000</td>\n      <td>0.019048</td>\n      <td>0.0000</td>\n      <td>0.0</td>\n    </tr>\n  </tbody>\n</table>\n<p>5 rows × 1500 columns</p>\n</div>"
     },
     "metadata": {}
    },
    {
     "output_type": "display_data",
     "data": {
      "text/plain": "0    1\n1    1\n2    1\n3    1\n4    1\nName: y, dtype: int64"
     },
     "metadata": {}
    }
   ],
   "source": [
    "#df = shuffle(df)\n",
    "X_valid = valid_df.drop(columns = ['y'])\n",
    "y = valid_df['y']\n",
    "\n",
    "#Do below when you have Columns 500 and 501\n",
    "# X = df.drop(columns = ['y', '500','501'])\n",
    "# y = df['y']\n",
    "display(X.head())\n",
    "display(y.head())"
   ]
  },
  {
   "cell_type": "code",
   "execution_count": 385,
   "metadata": {},
   "outputs": [],
   "source": [
    "valid_df = valid_df.sample(frac = 1)"
   ]
  },
  {
   "cell_type": "code",
   "execution_count": 386,
   "metadata": {},
   "outputs": [],
   "source": [
    "X_valid = valid_df.drop(columns='y')\n",
    "y_valid = valid_df['y']"
   ]
  },
  {
   "cell_type": "code",
   "execution_count": 387,
   "metadata": {},
   "outputs": [],
   "source": [
    "#obtain predictions for validation dataset\n",
    "Y_valid_predict = model_SVC.predict(X_valid)\n",
    "Y_valid_probs = model_SVC.predict_proba(X_valid)\n",
    "Y_valid_probs = Y_valid_probs[:, 1]"
   ]
  },
  {
   "cell_type": "code",
   "execution_count": 388,
   "metadata": {},
   "outputs": [
    {
     "output_type": "execute_result",
     "data": {
      "text/plain": [
       "0.6968197879858657"
      ]
     },
     "metadata": {},
     "execution_count": 388
    }
   ],
   "source": [
    "#find validation F1, accuracy, precision, recall, and ROC AUC\n",
    "f1_score(y_true = y_valid.values, y_pred = Y_valid_predict)\n"
   ]
  },
  {
   "cell_type": "code",
   "execution_count": 394,
   "metadata": {},
   "outputs": [
    {
     "output_type": "execute_result",
     "data": {
      "text/plain": [
       "0.7417218543046358"
      ]
     },
     "metadata": {},
     "execution_count": 394
    }
   ],
   "source": [
    "accuracy_score(y_true = y_valid.values, y_pred = Y_valid_predict)\n"
   ]
  },
  {
   "cell_type": "code",
   "execution_count": 390,
   "metadata": {},
   "outputs": [
    {
     "output_type": "execute_result",
     "data": {
      "text/plain": [
       "0.8271812080536913"
      ]
     },
     "metadata": {},
     "execution_count": 390
    }
   ],
   "source": [
    "precision_score(y_true = y_valid.values, y_pred = Y_valid_predict)"
   ]
  },
  {
   "cell_type": "code",
   "execution_count": 391,
   "metadata": {},
   "outputs": [
    {
     "output_type": "execute_result",
     "data": {
      "text/plain": [
       "0.6019536019536019"
      ]
     },
     "metadata": {},
     "execution_count": 391
    }
   ],
   "source": [
    "recall_score(y_true = y_valid.values, y_pred = Y_valid_predict)"
   ]
  },
  {
   "cell_type": "code",
   "execution_count": 392,
   "metadata": {},
   "outputs": [
    {
     "output_type": "execute_result",
     "data": {
      "text/plain": [
       "0.8497457939263164"
      ]
     },
     "metadata": {},
     "execution_count": 392
    }
   ],
   "source": [
    "roc_auc_score(y_true = y_valid.values, y_score = Y_valid_probs)"
   ]
  },
  {
   "cell_type": "code",
   "execution_count": 393,
   "metadata": {},
   "outputs": [],
   "source": [
    "#Dumping the trained model\n",
    "name = \"_\".join((\"SVC\",\"VoW_Model_Max\",str(n_cluster),\"v1.save\"))\n",
    "pickle.dump(model_SVC, open(name, 'wb'))"
   ]
  },
  {
   "cell_type": "code",
   "execution_count": null,
   "metadata": {},
   "outputs": [],
   "source": [
    "#Below finds validation metrics for augmented sets."
   ]
  },
  {
   "cell_type": "code",
   "execution_count": 395,
   "metadata": {},
   "outputs": [],
   "source": [
    "#load clustering model\n",
    "kmeans_batch = None\n",
    "with open(\"KMeans_c_500_b_32_rs_5_.sav\", 'rb') as f_name:\n",
    "    kmeans_batch = pickle.load(f_name)"
   ]
  },
  {
   "cell_type": "code",
   "execution_count": 396,
   "metadata": {},
   "outputs": [],
   "source": [
    "aug_car_path = 'car_val_mixed.txt'\n",
    "aug_noise_path = 'nocar_val_mixed.txt'"
   ]
  },
  {
   "cell_type": "code",
   "execution_count": 397,
   "metadata": {},
   "outputs": [
    {
     "output_type": "stream",
     "name": "stdout",
     "text": [
      "1.214104175567627\n"
     ]
    }
   ],
   "source": [
    "#obtain descriptors for datasets\n",
    "start_time = time.time()\n",
    "aug_car_descriptors = []\n",
    "with open(aug_car_path, 'rb') as fil_name:\n",
    "    aug_car_descriptors = pickle.load(fil_name)\n",
    "print(time.time() - start_time)"
   ]
  },
  {
   "cell_type": "code",
   "execution_count": 398,
   "metadata": {},
   "outputs": [
    {
     "output_type": "stream",
     "name": "stdout",
     "text": [
      "1.829178810119629\n"
     ]
    }
   ],
   "source": [
    "start_time = time.time()\n",
    "aug_noise_descriptors = []\n",
    "with open(aug_noise_path, 'rb') as fil_name:\n",
    "    aug_noise_descriptors = pickle.load(fil_name)\n",
    "print(time.time() - start_time)"
   ]
  },
  {
   "cell_type": "code",
   "execution_count": 399,
   "metadata": {},
   "outputs": [
    {
     "output_type": "stream",
     "name": "stdout",
     "text": [
      "4.496134996414185\n",
      "2.5962228775024414\n"
     ]
    }
   ],
   "source": [
    "#create cluster labels, then histograms\n",
    "aug_car_clusters = np.array(cluster_labels(pickle_file = aug_car_descriptors, model = kmeans_batch))\n",
    "aug_noise_clusters = np.array(cluster_labels(pickle_file = aug_noise_descriptors, model = kmeans_batch))"
   ]
  },
  {
   "cell_type": "code",
   "execution_count": 400,
   "metadata": {},
   "outputs": [
    {
     "output_type": "stream",
     "name": "stdout",
     "text": [
      "0.26717710494995117\n0.16149401664733887\n"
     ]
    }
   ],
   "source": [
    "n_cluster = 500\n",
    "aug_car_hist = cluster_histogram(img_clusters = aug_car_clusters, n_clusters = n_cluster)\n",
    "aug_noise_hist = cluster_histogram(img_clusters = aug_noise_clusters, n_clusters = n_cluster)"
   ]
  },
  {
   "cell_type": "code",
   "execution_count": 401,
   "metadata": {},
   "outputs": [],
   "source": [
    "#load saved model\n",
    "svc_model = pickle.load(open('SVC_VoW_Model_Max_500_v1.save', 'rb'))"
   ]
  },
  {
   "cell_type": "code",
   "execution_count": 402,
   "metadata": {},
   "outputs": [
    {
     "output_type": "execute_result",
     "data": {
      "text/plain": [
       "            0         1    2         3    4         5         6      7    8  \\\n",
       "0    0.000000  0.000000  0.0  0.000000  0.0  0.142857  0.111111  0.000  0.0   \n",
       "1    0.000000  0.033333  0.0  0.166667  0.0  0.000000  0.000000  0.000  0.0   \n",
       "2    0.000000  0.000000  0.0  0.000000  0.0  0.142857  0.000000  0.125  0.0   \n",
       "3    0.000000  0.000000  0.0  0.000000  0.0  0.000000  0.000000  0.000  0.0   \n",
       "4    0.000000  0.000000  0.0  0.000000  0.0  0.000000  0.000000  0.000  0.0   \n",
       "..        ...       ...  ...       ...  ...       ...       ...    ...  ...   \n",
       "662  0.000000  0.000000  0.0  0.000000  0.0  0.000000  0.000000  0.000  0.0   \n",
       "663  0.090909  0.000000  0.0  0.000000  0.0  0.142857  0.000000  0.000  0.0   \n",
       "664  0.000000  0.000000  0.0  0.000000  0.0  0.000000  0.000000  0.000  0.1   \n",
       "665  0.000000  0.000000  0.0  0.000000  0.0  0.000000  0.111111  0.000  0.0   \n",
       "666  0.000000  0.000000  0.0  0.166667  0.0  0.142857  0.000000  0.750  0.2   \n",
       "\n",
       "       9  ...       491       492       493       494       495  496  \\\n",
       "0    0.0  ...  0.000000  0.000000  0.000000  0.214286  0.000000  0.0   \n",
       "1    0.0  ...  0.166667  0.000000  0.000000  0.071429  0.000000  0.0   \n",
       "2    0.0  ...  0.000000  0.000000  0.000000  0.071429  0.000000  0.0   \n",
       "3    0.0  ...  0.000000  0.000000  0.000000  0.000000  0.000000  0.0   \n",
       "4    0.0  ...  0.166667  0.000000  0.000000  0.000000  0.000000  0.0   \n",
       "..   ...  ...       ...       ...       ...       ...       ...  ...   \n",
       "662  0.2  ...  0.000000  0.000000  0.000000  0.035714  0.000000  0.0   \n",
       "663  0.0  ...  0.000000  0.142857  0.000000  0.000000  0.166667  0.0   \n",
       "664  0.0  ...  0.000000  0.000000  0.000000  0.000000  0.000000  0.0   \n",
       "665  0.0  ...  0.000000  0.000000  0.333333  0.000000  0.000000  0.0   \n",
       "666  0.0  ...  0.000000  0.000000  0.000000  0.035714  0.000000  0.0   \n",
       "\n",
       "          497  498       499  y  \n",
       "0    0.000000  0.0  0.076923  1  \n",
       "1    0.000000  0.0  0.000000  1  \n",
       "2    0.000000  0.0  0.076923  1  \n",
       "3    0.000000  0.0  0.000000  1  \n",
       "4    0.000000  0.0  0.000000  1  \n",
       "..        ...  ...       ... ..  \n",
       "662  0.166667  0.0  0.000000  0  \n",
       "663  0.000000  0.0  0.076923  0  \n",
       "664  0.000000  0.0  0.000000  0  \n",
       "665  0.000000  0.0  0.000000  0  \n",
       "666  0.000000  0.0  0.000000  0  \n",
       "\n",
       "[1334 rows x 501 columns]"
      ],
      "text/html": "<div>\n<style scoped>\n    .dataframe tbody tr th:only-of-type {\n        vertical-align: middle;\n    }\n\n    .dataframe tbody tr th {\n        vertical-align: top;\n    }\n\n    .dataframe thead th {\n        text-align: right;\n    }\n</style>\n<table border=\"1\" class=\"dataframe\">\n  <thead>\n    <tr style=\"text-align: right;\">\n      <th></th>\n      <th>0</th>\n      <th>1</th>\n      <th>2</th>\n      <th>3</th>\n      <th>4</th>\n      <th>5</th>\n      <th>6</th>\n      <th>7</th>\n      <th>8</th>\n      <th>9</th>\n      <th>...</th>\n      <th>491</th>\n      <th>492</th>\n      <th>493</th>\n      <th>494</th>\n      <th>495</th>\n      <th>496</th>\n      <th>497</th>\n      <th>498</th>\n      <th>499</th>\n      <th>y</th>\n    </tr>\n  </thead>\n  <tbody>\n    <tr>\n      <th>0</th>\n      <td>0.000000</td>\n      <td>0.000000</td>\n      <td>0.0</td>\n      <td>0.000000</td>\n      <td>0.0</td>\n      <td>0.142857</td>\n      <td>0.111111</td>\n      <td>0.000</td>\n      <td>0.0</td>\n      <td>0.0</td>\n      <td>...</td>\n      <td>0.000000</td>\n      <td>0.000000</td>\n      <td>0.000000</td>\n      <td>0.214286</td>\n      <td>0.000000</td>\n      <td>0.0</td>\n      <td>0.000000</td>\n      <td>0.0</td>\n      <td>0.076923</td>\n      <td>1</td>\n    </tr>\n    <tr>\n      <th>1</th>\n      <td>0.000000</td>\n      <td>0.033333</td>\n      <td>0.0</td>\n      <td>0.166667</td>\n      <td>0.0</td>\n      <td>0.000000</td>\n      <td>0.000000</td>\n      <td>0.000</td>\n      <td>0.0</td>\n      <td>0.0</td>\n      <td>...</td>\n      <td>0.166667</td>\n      <td>0.000000</td>\n      <td>0.000000</td>\n      <td>0.071429</td>\n      <td>0.000000</td>\n      <td>0.0</td>\n      <td>0.000000</td>\n      <td>0.0</td>\n      <td>0.000000</td>\n      <td>1</td>\n    </tr>\n    <tr>\n      <th>2</th>\n      <td>0.000000</td>\n      <td>0.000000</td>\n      <td>0.0</td>\n      <td>0.000000</td>\n      <td>0.0</td>\n      <td>0.142857</td>\n      <td>0.000000</td>\n      <td>0.125</td>\n      <td>0.0</td>\n      <td>0.0</td>\n      <td>...</td>\n      <td>0.000000</td>\n      <td>0.000000</td>\n      <td>0.000000</td>\n      <td>0.071429</td>\n      <td>0.000000</td>\n      <td>0.0</td>\n      <td>0.000000</td>\n      <td>0.0</td>\n      <td>0.076923</td>\n      <td>1</td>\n    </tr>\n    <tr>\n      <th>3</th>\n      <td>0.000000</td>\n      <td>0.000000</td>\n      <td>0.0</td>\n      <td>0.000000</td>\n      <td>0.0</td>\n      <td>0.000000</td>\n      <td>0.000000</td>\n      <td>0.000</td>\n      <td>0.0</td>\n      <td>0.0</td>\n      <td>...</td>\n      <td>0.000000</td>\n      <td>0.000000</td>\n      <td>0.000000</td>\n      <td>0.000000</td>\n      <td>0.000000</td>\n      <td>0.0</td>\n      <td>0.000000</td>\n      <td>0.0</td>\n      <td>0.000000</td>\n      <td>1</td>\n    </tr>\n    <tr>\n      <th>4</th>\n      <td>0.000000</td>\n      <td>0.000000</td>\n      <td>0.0</td>\n      <td>0.000000</td>\n      <td>0.0</td>\n      <td>0.000000</td>\n      <td>0.000000</td>\n      <td>0.000</td>\n      <td>0.0</td>\n      <td>0.0</td>\n      <td>...</td>\n      <td>0.166667</td>\n      <td>0.000000</td>\n      <td>0.000000</td>\n      <td>0.000000</td>\n      <td>0.000000</td>\n      <td>0.0</td>\n      <td>0.000000</td>\n      <td>0.0</td>\n      <td>0.000000</td>\n      <td>1</td>\n    </tr>\n    <tr>\n      <th>...</th>\n      <td>...</td>\n      <td>...</td>\n      <td>...</td>\n      <td>...</td>\n      <td>...</td>\n      <td>...</td>\n      <td>...</td>\n      <td>...</td>\n      <td>...</td>\n      <td>...</td>\n      <td>...</td>\n      <td>...</td>\n      <td>...</td>\n      <td>...</td>\n      <td>...</td>\n      <td>...</td>\n      <td>...</td>\n      <td>...</td>\n      <td>...</td>\n      <td>...</td>\n      <td>...</td>\n    </tr>\n    <tr>\n      <th>662</th>\n      <td>0.000000</td>\n      <td>0.000000</td>\n      <td>0.0</td>\n      <td>0.000000</td>\n      <td>0.0</td>\n      <td>0.000000</td>\n      <td>0.000000</td>\n      <td>0.000</td>\n      <td>0.0</td>\n      <td>0.2</td>\n      <td>...</td>\n      <td>0.000000</td>\n      <td>0.000000</td>\n      <td>0.000000</td>\n      <td>0.035714</td>\n      <td>0.000000</td>\n      <td>0.0</td>\n      <td>0.166667</td>\n      <td>0.0</td>\n      <td>0.000000</td>\n      <td>0</td>\n    </tr>\n    <tr>\n      <th>663</th>\n      <td>0.090909</td>\n      <td>0.000000</td>\n      <td>0.0</td>\n      <td>0.000000</td>\n      <td>0.0</td>\n      <td>0.142857</td>\n      <td>0.000000</td>\n      <td>0.000</td>\n      <td>0.0</td>\n      <td>0.0</td>\n      <td>...</td>\n      <td>0.000000</td>\n      <td>0.142857</td>\n      <td>0.000000</td>\n      <td>0.000000</td>\n      <td>0.166667</td>\n      <td>0.0</td>\n      <td>0.000000</td>\n      <td>0.0</td>\n      <td>0.076923</td>\n      <td>0</td>\n    </tr>\n    <tr>\n      <th>664</th>\n      <td>0.000000</td>\n      <td>0.000000</td>\n      <td>0.0</td>\n      <td>0.000000</td>\n      <td>0.0</td>\n      <td>0.000000</td>\n      <td>0.000000</td>\n      <td>0.000</td>\n      <td>0.1</td>\n      <td>0.0</td>\n      <td>...</td>\n      <td>0.000000</td>\n      <td>0.000000</td>\n      <td>0.000000</td>\n      <td>0.000000</td>\n      <td>0.000000</td>\n      <td>0.0</td>\n      <td>0.000000</td>\n      <td>0.0</td>\n      <td>0.000000</td>\n      <td>0</td>\n    </tr>\n    <tr>\n      <th>665</th>\n      <td>0.000000</td>\n      <td>0.000000</td>\n      <td>0.0</td>\n      <td>0.000000</td>\n      <td>0.0</td>\n      <td>0.000000</td>\n      <td>0.111111</td>\n      <td>0.000</td>\n      <td>0.0</td>\n      <td>0.0</td>\n      <td>...</td>\n      <td>0.000000</td>\n      <td>0.000000</td>\n      <td>0.333333</td>\n      <td>0.000000</td>\n      <td>0.000000</td>\n      <td>0.0</td>\n      <td>0.000000</td>\n      <td>0.0</td>\n      <td>0.000000</td>\n      <td>0</td>\n    </tr>\n    <tr>\n      <th>666</th>\n      <td>0.000000</td>\n      <td>0.000000</td>\n      <td>0.0</td>\n      <td>0.166667</td>\n      <td>0.0</td>\n      <td>0.142857</td>\n      <td>0.000000</td>\n      <td>0.750</td>\n      <td>0.2</td>\n      <td>0.0</td>\n      <td>...</td>\n      <td>0.000000</td>\n      <td>0.000000</td>\n      <td>0.000000</td>\n      <td>0.035714</td>\n      <td>0.000000</td>\n      <td>0.0</td>\n      <td>0.000000</td>\n      <td>0.0</td>\n      <td>0.000000</td>\n      <td>0</td>\n    </tr>\n  </tbody>\n</table>\n<p>1334 rows × 501 columns</p>\n</div>"
     },
     "metadata": {},
     "execution_count": 402
    }
   ],
   "source": [
    "#standardize data\n",
    "mm_scalar = MinMaxScaler()\n",
    "aug_car_hist = pd.DataFrame(aug_car_hist)\n",
    "aug_noise_hist = pd.DataFrame(aug_noise_hist)\n",
    "aug_car_hist_mm = pd.DataFrame(mm_scalar.fit_transform(aug_car_hist))\n",
    "aug_noise_hist_mm = pd.DataFrame(mm_scalar.fit_transform(aug_noise_hist))\n",
    "aug_car_df = aug_car_hist_mm\n",
    "aug_noise_df = aug_noise_hist_mm\n",
    "aug_car_df['y'] = 1\n",
    "aug_noise_df['y'] = 0\n",
    "aug_df = pd.concat([aug_car_df, aug_noise_df])\n",
    "aug_df"
   ]
  },
  {
   "cell_type": "code",
   "execution_count": 403,
   "metadata": {},
   "outputs": [],
   "source": [
    "X_aug = aug_df.drop(columns = ['y'])\n",
    "y_aug = aug_df['y']"
   ]
  },
  {
   "cell_type": "code",
   "execution_count": 404,
   "metadata": {},
   "outputs": [],
   "source": [
    "#get predictions for augmented dataset\n",
    "Y_aug_predict = svc_model.predict(X_aug)\n",
    "Y_aug_probs = svc_model.predict_proba(X_aug)\n",
    "Y_aug_probs = Y_aug_probs[:, 1]"
   ]
  },
  {
   "cell_type": "code",
   "execution_count": 405,
   "metadata": {},
   "outputs": [
    {
     "output_type": "execute_result",
     "data": {
      "text/plain": [
       "0.1835985312117503"
      ]
     },
     "metadata": {},
     "execution_count": 405
    }
   ],
   "source": [
    "#use predictions to calculate F1, accuracy, precision, recall, and ROC AUC score\n",
    "f1_score(y_true = y_aug.values, y_pred = Y_aug_predict)"
   ]
  },
  {
   "cell_type": "code",
   "execution_count": 406,
   "metadata": {},
   "outputs": [
    {
     "output_type": "execute_result",
     "data": {
      "text/plain": [
       "0.5"
      ]
     },
     "metadata": {},
     "execution_count": 406
    }
   ],
   "source": [
    "accuracy_score(y_true = y_aug.values, y_pred = Y_aug_predict)"
   ]
  },
  {
   "cell_type": "code",
   "execution_count": 407,
   "metadata": {},
   "outputs": [
    {
     "output_type": "execute_result",
     "data": {
      "text/plain": [
       "0.5"
      ]
     },
     "metadata": {},
     "execution_count": 407
    }
   ],
   "source": [
    "precision_score(y_true = y_aug.values, y_pred = Y_aug_predict)"
   ]
  },
  {
   "cell_type": "code",
   "execution_count": 408,
   "metadata": {},
   "outputs": [
    {
     "output_type": "execute_result",
     "data": {
      "text/plain": [
       "0.11244377811094453"
      ]
     },
     "metadata": {},
     "execution_count": 408
    }
   ],
   "source": [
    "recall_score(y_true = y_aug.values, y_pred = Y_aug_predict)"
   ]
  },
  {
   "cell_type": "code",
   "execution_count": 409,
   "metadata": {},
   "outputs": [
    {
     "output_type": "execute_result",
     "data": {
      "text/plain": [
       "0.5"
      ]
     },
     "metadata": {},
     "execution_count": 409
    }
   ],
   "source": [
    "roc_auc_score(y_true = y_aug.values, y_score = Y_aug_probs)"
   ]
  }
 ]
}