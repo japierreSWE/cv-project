{
 "metadata": {
  "language_info": {
   "codemirror_mode": {
    "name": "ipython",
    "version": 3
   },
   "file_extension": ".py",
   "mimetype": "text/x-python",
   "name": "python",
   "nbconvert_exporter": "python",
   "pygments_lexer": "ipython3",
   "version": "3.7.3-final"
  },
  "orig_nbformat": 2,
  "kernelspec": {
   "name": "python3",
   "display_name": "Python 3.7.3 64-bit",
   "metadata": {
    "interpreter": {
     "hash": "31f2aee4e71d21fbe5cf8b01ff0e069b9275f58929596ceb00d14d90e3e16cd6"
    }
   }
  }
 },
 "nbformat": 4,
 "nbformat_minor": 2,
 "cells": [
  {
   "cell_type": "code",
   "execution_count": 1,
   "metadata": {},
   "outputs": [],
   "source": [
    "#Splitting the training dataset into different parts"
   ]
  },
  {
   "cell_type": "code",
   "execution_count": 2,
   "metadata": {},
   "outputs": [],
   "source": [
    "import cv2 as cv\n",
    "import os\n",
    "import numpy as np\n",
    "import json\n",
    "import pickle\n",
    "import time\n",
    "from sys import getsizeof\n",
    "from sklearn.cluster import KMeans\n",
    "from sklearn.preprocessing import StandardScaler\n",
    "from sklearn.svm import LinearSVC\n",
    "from sklearn.metrics import accuracy_score, confusion_matrix\n"
   ]
  },
  {
   "cell_type": "code",
   "execution_count": 5,
   "metadata": {},
   "outputs": [],
   "source": [
    "#Collecting Descriptors from Train Data\n",
    "#find paths to saved train data\n",
    "car_dir = 'cars_1_6554_train_nolabel.txt'\n",
    "nocar_dir = 'nocars_1_6776_train_nolabel.txt'"
   ]
  },
  {
   "cell_type": "code",
   "execution_count": 6,
   "metadata": {},
   "outputs": [
    {
     "output_type": "stream",
     "name": "stdout",
     "text": [
      "cars_1_6554_train_nolabel.txt\n"
     ]
    }
   ],
   "source": [
    "print(car_dir)\n",
    "#print(car_dir_v1)"
   ]
  },
  {
   "cell_type": "code",
   "execution_count": 7,
   "metadata": {},
   "outputs": [
    {
     "output_type": "stream",
     "name": "stdout",
     "text": [
      "nocars_1_6776_train_nolabel.txt\n"
     ]
    }
   ],
   "source": [
    "print(nocar_dir)\n",
    "#print(nocar_dir_v1)"
   ]
  },
  {
   "cell_type": "code",
   "execution_count": 8,
   "metadata": {
    "tags": []
   },
   "outputs": [
    {
     "output_type": "stream",
     "name": "stdout",
     "text": [
      "1.0596349239349365\n"
     ]
    }
   ],
   "source": [
    "#extract the feature descriptors from each file\n",
    "start_time = time.time()\n",
    "car_descriptor = []\n",
    "with open(car_dir, 'rb') as file:\n",
    "    car_descriptor = pickle.load(file)\n",
    "print(time.time() - start_time)"
   ]
  },
  {
   "cell_type": "code",
   "execution_count": 9,
   "metadata": {},
   "outputs": [
    {
     "output_type": "stream",
     "name": "stdout",
     "text": [
      "2.496074914932251\n"
     ]
    }
   ],
   "source": [
    "start_time = time.time()\n",
    "noise_descriptor = []\n",
    "with open(nocar_dir, 'rb') as file:\n",
    "    noise_descriptor = pickle.load(file)\n",
    "print(time.time() - start_time)"
   ]
  },
  {
   "cell_type": "code",
   "execution_count": 10,
   "metadata": {},
   "outputs": [
    {
     "output_type": "stream",
     "name": "stdout",
     "text": [
      "0.004369020462036133\n"
     ]
    }
   ],
   "source": [
    "start_time = time.time()\n",
    "np.shape(car_descriptor)\n",
    "print(time.time() - start_time)"
   ]
  },
  {
   "cell_type": "code",
   "execution_count": 11,
   "metadata": {},
   "outputs": [],
   "source": [
    "#label each feature descriptor\n",
    "car_descriptors_train = np.array(car_descriptor)\n",
    "car_labels = [1]*len(car_descriptors_train)\n"
   ]
  },
  {
   "cell_type": "code",
   "execution_count": 12,
   "metadata": {},
   "outputs": [
    {
     "output_type": "stream",
     "name": "stdout",
     "text": [
      "0.0063169002532958984\n"
     ]
    }
   ],
   "source": [
    "start_time = time.time()\n",
    "noise_descriptors_train = np.array(noise_descriptor)\n",
    "noise_labels = [0]*len(noise_descriptors_train)\n",
    "print(time.time() - start_time)"
   ]
  },
  {
   "cell_type": "code",
   "execution_count": 13,
   "metadata": {},
   "outputs": [
    {
     "output_type": "stream",
     "name": "stdout",
     "text": [
      "6554\n"
     ]
    }
   ],
   "source": [
    "len_car_fd =len(car_descriptors_train)\n",
    "print(len_car_fd)"
   ]
  },
  {
   "cell_type": "code",
   "execution_count": 14,
   "metadata": {},
   "outputs": [
    {
     "output_type": "stream",
     "name": "stdout",
     "text": [
      "6776\n"
     ]
    }
   ],
   "source": [
    "len_noise_fd = len(noise_descriptors_train)\n",
    "print(len_noise_fd)"
   ]
  },
  {
   "cell_type": "code",
   "execution_count": 15,
   "metadata": {},
   "outputs": [],
   "source": [
    "#split the descriptors in to four parts for each class\n",
    "noise_split_1 = noise_descriptors_train[:int(6554 * 0.25)]\n",
    "noise_split_2 = noise_descriptors_train[int(6554 * 0.25):int(6554 * 0.5)]\n",
    "noise_split_3 = noise_descriptors_train[int(6554 * 0.5) :int(6554 * 0.75)]\n",
    "noise_split_4 = noise_descriptors_train[int(6554 * 0.75):]\n"
   ]
  },
  {
   "cell_type": "code",
   "execution_count": 16,
   "metadata": {},
   "outputs": [],
   "source": [
    "car_split_1 = car_descriptors_train[:int(6554 * 0.25)]\n",
    "car_split_2 = car_descriptors_train[int(6554 * 0.25):int(6554 * 0.5)]\n",
    "car_split_3 = car_descriptors_train[int(6554 * 0.5) :int(6554 * 0.75)]\n",
    "car_split_4 = car_descriptors_train[int(6554 * 0.75):]"
   ]
  },
  {
   "cell_type": "code",
   "execution_count": 17,
   "metadata": {},
   "outputs": [],
   "source": [
    "#export it to a file using pickle\n",
    "with open(\"car_desc_split_1.pkl\", 'wb') as file_name:\n",
    "     pickle.dump(car_split_1, file_name)\n",
    "# with open(\"shuffled_label_split_1.pkl\", 'wb') as file_name:\n",
    "# #     pickle.dump(split_1, file_name)\n",
    "\n",
    "with open(\"car_desc_split_2.pkl\", 'wb') as file_name:\n",
    "     pickle.dump(car_split_2, file_name)\n",
    "# with open(\"shuffled_label_split_2.pkl\", 'wb') as file_name:\n",
    "# #     pickle.dump(split_1, file_name)\n",
    "\n",
    "with open(\"car_desc_split_3.pkl\", 'wb') as file_name:\n",
    "    pickle.dump(car_split_3, file_name)\n",
    "# with open(\"shuffled_label_split_3.pkl\", 'wb') as file_name:\n",
    "#     pickle.dump(split_1, file_name)\n",
    "\n",
    "with open(\"car_desc_split_4.pkl\", 'wb') as file_name:\n",
    "    pickle.dump(car_split_4, file_name)\n",
    "# with open(\"shuffled_label_split_4.pkl\", 'wb') as file_name:\n",
    "#     pickle.dump(split_1, file_name)"
   ]
  },
  {
   "cell_type": "code",
   "execution_count": 18,
   "metadata": {},
   "outputs": [],
   "source": [
    "with open(\"noise_desc_split_1.pkl\", 'wb') as file_name:\n",
    "     pickle.dump(noise_split_1, file_name)\n",
    "# with open(\"shuffled_label_split_1.pkl\", 'wb') as file_name:\n",
    "# #     pickle.dump(split_1, file_name)\n",
    "\n",
    "with open(\"noise_desc_split_2.pkl\", 'wb') as file_name:\n",
    "     pickle.dump(noise_split_2, file_name)\n",
    "# with open(\"shuffled_label_split_2.pkl\", 'wb') as file_name:\n",
    "# #     pickle.dump(split_1, file_name)\n",
    "\n",
    "with open(\"noise_desc_split_3.pkl\", 'wb') as file_name:\n",
    "    pickle.dump(noise_split_3, file_name)\n",
    "# with open(\"shuffled_label_split_3.pkl\", 'wb') as file_name:\n",
    "#     pickle.dump(split_1, file_name)\n",
    "\n",
    "with open(\"noise_desc_split_4.pkl\", 'wb') as file_name:\n",
    "    pickle.dump(noise_split_4, file_name)\n",
    "# with open(\"shuffled_label_split_4.pkl\", 'wb') as file_name:\n",
    "#     pickle.dump(split_1, file_name)"
   ]
  }
 ]
}